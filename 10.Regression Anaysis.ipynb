{
 "cells": [
  {
   "cell_type": "markdown",
   "metadata": {
    "id": "4B2LOyUc1tKQ"
   },
   "source": [
    "# 10장 - 회귀 분석으로 연속적 타깃 변수 예측"
   ]
  },
  {
   "cell_type": "markdown",
   "metadata": {
    "id": "hVUPbJXi1tKS"
   },
   "source": [
    "# 선형 회귀"
   ]
  },
  {
   "cell_type": "markdown",
   "metadata": {
    "id": "UgnD_IoV1tKT"
   },
   "source": [
    "# 주택 데이터셋 탐색"
   ]
  },
  {
   "cell_type": "markdown",
   "metadata": {
    "id": "yMZ0zxuJ1tKU"
   },
   "source": [
    "Description, which was previously available at: [https://archive.ics.uci.edu/ml/datasets/Housing](https://archive.ics.uci.edu/ml/datasets/Housing)\n",
    "\n",
    "Attributes:\n",
    "    \n",
    "<pre>\n",
    "1. CRIM      per capita crime rate by town\n",
    "2. ZN        proportion of residential land zoned for lots over \n",
    "                 25,000 sq.ft.\n",
    "3. INDUS     proportion of non-retail business acres per town\n",
    "4. CHAS      Charles River dummy variable (= 1 if tract bounds \n",
    "                 river; 0 otherwise)\n",
    "5. NOX       nitric oxides concentration (parts per 10 million)\n",
    "6. RM        average number of rooms per dwelling\n",
    "7. AGE       proportion of owner-occupied units built prior to 1940\n",
    "8. DIS       weighted distances to five Boston employment centres\n",
    "9. RAD       index of accessibility to radial highways\n",
    "10. TAX      full-value property-tax rate per $10,000\n",
    "11. PTRATIO  pupil-teacher ratio by town\n",
    "12. B        1000(Bk - 0.63)^2 where Bk is the proportion of blacks \n",
    "                 by town\n",
    "13. LSTAT    % lower status of the population\n",
    "14. MEDV     Median value of owner-occupied homes in $1000s\n",
    "</pre>"
   ]
  },
  {
   "cell_type": "code",
   "execution_count": null,
   "metadata": {
    "colab": {
     "base_uri": "https://localhost:8080/",
     "height": 198
    },
    "id": "aQR7x5yN1tKU",
    "outputId": "d530942e-61b4-452d-872f-f601d9011843"
   },
   "outputs": [],
   "source": [
    "import pandas as pd\n",
    "\n",
    "df = pd.read_csv('housing.csv')\n",
    "\n",
    "df.head()"
   ]
  },
  {
   "cell_type": "markdown",
   "metadata": {
    "id": "7cFgvZQo1tKU"
   },
   "source": [
    "<br>\n",
    "<br>"
   ]
  },
  {
   "cell_type": "markdown",
   "metadata": {
    "id": "3E8VVxoW1tKV"
   },
   "source": [
    "## 데이터셋의 중요 특징 시각화"
   ]
  },
  {
   "cell_type": "code",
   "execution_count": null,
   "metadata": {
    "id": "ovQejiCk1tKV"
   },
   "outputs": [],
   "source": [
    "import matplotlib.pyplot as plt\n",
    "import seaborn as sns"
   ]
  },
  {
   "cell_type": "code",
   "execution_count": null,
   "metadata": {
    "colab": {
     "base_uri": "https://localhost:8080/",
     "height": 585
    },
    "id": "lZm944Yd1tKV",
    "outputId": "cc650bae-14c6-419a-b81f-3d991d62ba77"
   },
   "outputs": [],
   "source": [
    "cols = ['LSTAT', 'INDUS', 'NOX', 'RM', 'MEDV']\n",
    "sns.pairplot(df[cols], diag_kind='hist')\n",
    "plt.show()"
   ]
  },
  {
   "cell_type": "code",
   "execution_count": null,
   "metadata": {},
   "outputs": [],
   "source": [
    "sns.pairplot(df[cols], diag_kind='kde') "
   ]
  },
  {
   "cell_type": "code",
   "execution_count": null,
   "metadata": {},
   "outputs": [],
   "source": [
    "df[cols].corr()"
   ]
  },
  {
   "cell_type": "code",
   "execution_count": null,
   "metadata": {
    "colab": {
     "base_uri": "https://localhost:8080/",
     "height": 289
    },
    "id": "ktKWoNJU1tKV",
    "outputId": "e7e8ed3c-9bbc-483f-a04b-c122fb4e18e2"
   },
   "outputs": [],
   "source": [
    "sns.heatmap(df[cols].corr(), annot = True, linewidth = 1, cmap = 'Blues')"
   ]
  },
  {
   "cell_type": "markdown",
   "metadata": {
    "id": "yKrHqvSi1tKW"
   },
   "source": [
    "<br>\n",
    "<br>"
   ]
  },
  {
   "cell_type": "markdown",
   "metadata": {
    "id": "6obs7V3b1tKW"
   },
   "source": [
    "# 최소 제곱 선형 회귀 모델 구현"
   ]
  },
  {
   "cell_type": "markdown",
   "metadata": {
    "id": "Nr9oo_tM1tKW"
   },
   "source": [
    "## 경사 하강법으로 회귀 모델의 파라미터 구하기"
   ]
  },
  {
   "cell_type": "code",
   "execution_count": null,
   "metadata": {
    "id": "b95U6rmm1tKW"
   },
   "outputs": [],
   "source": [
    "import numpy as np\n",
    "\n",
    "class LinearRegressionGD(object):\n",
    "\n",
    "    def __init__(self, eta=0.001, n_iter=20):\n",
    "        self.eta = eta\n",
    "        self.n_iter = n_iter\n",
    "\n",
    "    def fit(self, X, y):\n",
    "        self.w_ = np.zeros(1 + X.shape[1])\n",
    "        self.cost_ = []\n",
    "\n",
    "        for i in range(self.n_iter):\n",
    "            output = self.net_input(X)\n",
    "            errors = (y - output)\n",
    "            self.w_[1:] += self.eta * X.T.dot(errors)\n",
    "            self.w_[0] += self.eta * errors.sum()\n",
    "            cost = (errors**2).sum() / 2.0\n",
    "            self.cost_.append(cost)\n",
    "        return self\n",
    "\n",
    "    def net_input(self, X):\n",
    "        return np.dot(X, self.w_[1:]) + self.w_[0]\n",
    "\n",
    "    def predict(self, X):\n",
    "        return self.net_input(X)"
   ]
  },
  {
   "cell_type": "code",
   "execution_count": null,
   "metadata": {
    "id": "NJbc8JKd1tKW"
   },
   "outputs": [],
   "source": [
    "X = df[['RM']].values\n",
    "y = df['MEDV'].values"
   ]
  },
  {
   "cell_type": "code",
   "execution_count": null,
   "metadata": {
    "id": "MGjlL_aW1tKW"
   },
   "outputs": [],
   "source": [
    "from sklearn.preprocessing import StandardScaler\n",
    "\n",
    "sc_x = StandardScaler()\n",
    "sc_y = StandardScaler()\n",
    "X_std = sc_x.fit_transform(X)\n",
    "y_std = sc_y.fit_transform(y[:, np.newaxis]).flatten()"
   ]
  },
  {
   "cell_type": "code",
   "execution_count": null,
   "metadata": {
    "colab": {
     "base_uri": "https://localhost:8080/"
    },
    "id": "f5KF2XhI1tKW",
    "outputId": "e8d584cb-e93b-4565-a59c-32bdbeb3ea3e"
   },
   "outputs": [],
   "source": [
    "lr = LinearRegressionGD()\n",
    "lr.fit(X_std, y_std)"
   ]
  },
  {
   "cell_type": "code",
   "execution_count": null,
   "metadata": {
    "colab": {
     "base_uri": "https://localhost:8080/",
     "height": 297
    },
    "id": "0-AFIm3I1tKY",
    "outputId": "324ebc5e-38c8-4f2e-ab9d-ee54116c70ab"
   },
   "outputs": [],
   "source": [
    "plt.plot(range(1, lr.n_iter+1), lr.cost_)\n",
    "plt.ylabel('SSE')\n",
    "plt.xlabel('Epoch')\n",
    "plt.tight_layout()\n",
    "plt.show()"
   ]
  },
  {
   "cell_type": "code",
   "execution_count": null,
   "metadata": {
    "id": "J4CGc2r31tKY"
   },
   "outputs": [],
   "source": [
    "def lin_regplot(X, y, model):\n",
    "    plt.scatter(X, y, c='steelblue', edgecolor='white', s=70)\n",
    "    plt.plot(X, model.predict(X), color='black', lw=2)    \n",
    "    return "
   ]
  },
  {
   "cell_type": "code",
   "execution_count": null,
   "metadata": {
    "colab": {
     "base_uri": "https://localhost:8080/",
     "height": 279
    },
    "id": "Fq6rKnT-1tKY",
    "outputId": "85c49baa-ac1c-4238-9061-23f2a888e506"
   },
   "outputs": [],
   "source": [
    "lin_regplot(X_std, y_std, lr)\n",
    "plt.xlabel('Average number of rooms [RM] (standardized)')\n",
    "plt.ylabel('Price in $1000s [MEDV] (standardized)')\n",
    "\n",
    "plt.show()"
   ]
  },
  {
   "cell_type": "code",
   "execution_count": null,
   "metadata": {
    "colab": {
     "base_uri": "https://localhost:8080/"
    },
    "id": "fMPtGMCN1tKY",
    "outputId": "941e3d86-98ff-4673-ce31-803440f9cf87"
   },
   "outputs": [],
   "source": [
    "print('기울기: %.3f' % lr.w_[1])\n",
    "print('절편: %.3f' % lr.w_[0])"
   ]
  },
  {
   "cell_type": "markdown",
   "metadata": {
    "id": "iptdGT2I1tKZ"
   },
   "source": [
    "<br>\n",
    "<br>"
   ]
  },
  {
   "cell_type": "markdown",
   "metadata": {
    "id": "7YtZpyim1tKZ"
   },
   "source": [
    "## 사이킷런으로 회귀 모델의 가중치 추정"
   ]
  },
  {
   "cell_type": "code",
   "execution_count": null,
   "metadata": {
    "id": "r6MV5DrE1tKZ"
   },
   "outputs": [],
   "source": [
    "from sklearn.linear_model import LinearRegression"
   ]
  },
  {
   "cell_type": "code",
   "execution_count": null,
   "metadata": {
    "colab": {
     "base_uri": "https://localhost:8080/"
    },
    "id": "d0DX-mrw1tKZ",
    "outputId": "dc29ccbe-ff40-4812-d649-780cc7916122"
   },
   "outputs": [],
   "source": [
    "slr = LinearRegression()\n",
    "slr.fit(X, y)\n",
    "y_pred = slr.predict(X)\n",
    "print('기울기: %.3f' % slr.coef_[0])\n",
    "print('절편: %.3f' % slr.intercept_)"
   ]
  },
  {
   "cell_type": "code",
   "execution_count": null,
   "metadata": {
    "colab": {
     "base_uri": "https://localhost:8080/",
     "height": 279
    },
    "id": "qZU7nLfj1tKZ",
    "outputId": "dfecd780-1e55-44d0-864f-a96654739c83"
   },
   "outputs": [],
   "source": [
    "lin_regplot(X, y, slr)\n",
    "plt.xlabel('Average number of rooms [RM]')\n",
    "plt.ylabel('Price in $1000s [MEDV]')\n",
    "\n",
    "plt.show()"
   ]
  },
  {
   "cell_type": "code",
   "execution_count": null,
   "metadata": {},
   "outputs": [],
   "source": [
    "from scipy.stats import linregress\n",
    "\n",
    "X = df[['RM']].values\n",
    "y = df['MEDV'].values\n",
    "\n",
    "result = linregress(df['RM'],df['MEDV'])\n",
    "\n",
    "print(result)"
   ]
  },
  {
   "cell_type": "markdown",
   "metadata": {
    "id": "EQRdETsE1tKb"
   },
   "source": [
    "<br>\n",
    "<br>"
   ]
  },
  {
   "cell_type": "markdown",
   "metadata": {
    "id": "Pkt5L9zE1tKb"
   },
   "source": [
    "# RANSAC을 사용하여 안정된 회귀 모델 훈련"
   ]
  },
  {
   "cell_type": "code",
   "execution_count": null,
   "metadata": {
    "colab": {
     "base_uri": "https://localhost:8080/",
     "height": 279
    },
    "id": "2940HFsD1tKb",
    "outputId": "a3b0abba-a80d-488e-c6cf-d9dbab0d6fc4"
   },
   "outputs": [],
   "source": [
    "from sklearn.linear_model import RANSACRegressor\n",
    "\n",
    "ransac = RANSACRegressor(LinearRegression(), \n",
    "                         max_trials=100, \n",
    "                         min_samples=50, \n",
    "                         loss='squared_error', \n",
    "                         residual_threshold=5.0, \n",
    "                         random_state=0)\n",
    "\n",
    "\n",
    "ransac.fit(X, y)\n",
    "\n",
    "inlier_mask = ransac.inlier_mask_\n",
    "outlier_mask = np.logical_not(inlier_mask)\n",
    "\n",
    "line_X = np.arange(3, 10, 1)\n",
    "line_y_ransac = ransac.predict(line_X[:, np.newaxis])\n",
    "plt.scatter(X[inlier_mask], y[inlier_mask],\n",
    "            c='steelblue', edgecolor='white', \n",
    "            marker='o', label='Inliers')\n",
    "plt.scatter(X[outlier_mask], y[outlier_mask],\n",
    "            c='limegreen', edgecolor='white', \n",
    "            marker='s', label='Outliers')\n",
    "plt.plot(line_X, line_y_ransac, color='black', lw=2)   \n",
    "plt.xlabel('Average number of rooms [RM]')\n",
    "plt.ylabel('Price in $1000s [MEDV]')\n",
    "plt.legend(loc='upper left')\n",
    "\n",
    "plt.show()"
   ]
  },
  {
   "cell_type": "code",
   "execution_count": null,
   "metadata": {
    "colab": {
     "base_uri": "https://localhost:8080/"
    },
    "id": "fjxZQfHs1tKb",
    "outputId": "e69bfb70-069a-48e5-8432-86f33ad1abe0"
   },
   "outputs": [],
   "source": [
    "print('기울기: %.3f' % ransac.estimator_.coef_[0])\n",
    "print('절편: %.3f' % ransac.estimator_.intercept_)"
   ]
  },
  {
   "cell_type": "markdown",
   "metadata": {
    "id": "mQUHsotB1tKc"
   },
   "source": [
    "<br>\n",
    "<br>"
   ]
  },
  {
   "cell_type": "markdown",
   "metadata": {
    "id": "zczk-FVd1tKc"
   },
   "source": [
    "# 선형 회귀 모델의 성능 평가"
   ]
  },
  {
   "cell_type": "code",
   "execution_count": null,
   "metadata": {
    "id": "0nmvnp_u1tKc"
   },
   "outputs": [],
   "source": [
    "from sklearn.model_selection import train_test_split\n",
    "\n",
    "X = df.iloc[:, :-1].values\n",
    "y = df['MEDV'].values\n",
    "\n",
    "X_train, X_test, y_train, y_test = train_test_split(\n",
    "    X, y, test_size=0.3, random_state=0)"
   ]
  },
  {
   "cell_type": "code",
   "execution_count": null,
   "metadata": {
    "id": "MekaJdBn1tKc"
   },
   "outputs": [],
   "source": [
    "slr = LinearRegression()\n",
    "\n",
    "slr.fit(X_train, y_train)\n",
    "y_train_pred = slr.predict(X_train)\n",
    "y_test_pred = slr.predict(X_test)"
   ]
  },
  {
   "cell_type": "code",
   "execution_count": null,
   "metadata": {
    "colab": {
     "base_uri": "https://localhost:8080/"
    },
    "id": "EqTuey4S1tKd",
    "outputId": "982fe3f0-d539-491f-f678-e0d352dae2c3"
   },
   "outputs": [],
   "source": [
    "from sklearn.metrics import r2_score\n",
    "from sklearn.metrics import mean_squared_error\n",
    "\n",
    "print('훈련 MSE: %.3f, 테스트 MSE: %.3f' % (\n",
    "        mean_squared_error(y_train, y_train_pred),\n",
    "        mean_squared_error(y_test, y_test_pred)))\n",
    "print('훈련 R^2: %.3f, 테스트 R^2: %.3f' % (\n",
    "        r2_score(y_train, y_train_pred),\n",
    "        r2_score(y_test, y_test_pred)))"
   ]
  },
  {
   "cell_type": "markdown",
   "metadata": {
    "id": "dCw4WdRb1tKd"
   },
   "source": [
    "<br>\n",
    "<br>"
   ]
  },
  {
   "cell_type": "markdown",
   "metadata": {
    "id": "8J6Kd36k1tKd"
   },
   "source": [
    "# 회귀에 규제 적용"
   ]
  },
  {
   "cell_type": "code",
   "execution_count": null,
   "metadata": {
    "colab": {
     "base_uri": "https://localhost:8080/"
    },
    "id": "w1SSPnWL1tKd",
    "outputId": "e54c0d2b-18cd-466a-ae69-8c4d511bd086"
   },
   "outputs": [],
   "source": [
    "from sklearn.linear_model import Lasso\n",
    "\n",
    "lasso = Lasso(alpha=0.1)\n",
    "lasso.fit(X_train, y_train)\n",
    "y_train_pred = lasso.predict(X_train)\n",
    "y_test_pred = lasso.predict(X_test)\n",
    "print(lasso.coef_)"
   ]
  },
  {
   "cell_type": "code",
   "execution_count": null,
   "metadata": {
    "colab": {
     "base_uri": "https://localhost:8080/"
    },
    "id": "QZp-_eU21tKe",
    "outputId": "c2947f3a-fa60-4ecc-b61c-754f1138691a"
   },
   "outputs": [],
   "source": [
    "print('훈련 MSE: %.3f, 테스트 MSE: %.3f' % (\n",
    "        mean_squared_error(y_train, y_train_pred),\n",
    "        mean_squared_error(y_test, y_test_pred)))\n",
    "print('훈련 R^2: %.3f, 테스트 R^2: %.3f' % (\n",
    "        r2_score(y_train, y_train_pred),\n",
    "        r2_score(y_test, y_test_pred)))"
   ]
  },
  {
   "cell_type": "markdown",
   "metadata": {
    "id": "fikqRCY81tKe"
   },
   "source": [
    "릿지 회귀:"
   ]
  },
  {
   "cell_type": "code",
   "execution_count": null,
   "metadata": {
    "id": "ew6heqE21tKe"
   },
   "outputs": [],
   "source": [
    "from sklearn.linear_model import Ridge\n",
    "ridge = Ridge(alpha=0.1)"
   ]
  },
  {
   "cell_type": "markdown",
   "metadata": {
    "id": "Y5xvAvrK1tKe"
   },
   "source": [
    "리쏘 회귀:"
   ]
  },
  {
   "cell_type": "code",
   "execution_count": null,
   "metadata": {
    "id": "MBR-nstW1tKe"
   },
   "outputs": [],
   "source": [
    "from sklearn.linear_model import Lasso\n",
    "lasso = Lasso(alpha=1.0)"
   ]
  },
  {
   "cell_type": "markdown",
   "metadata": {
    "id": "uqToICeL1tKe"
   },
   "source": [
    "엘라스틱 넷 회귀:"
   ]
  },
  {
   "cell_type": "code",
   "execution_count": null,
   "metadata": {
    "id": "kyBAHsWG1tKe"
   },
   "outputs": [],
   "source": [
    "from sklearn.linear_model import ElasticNet\n",
    "elanet = ElasticNet(alpha=1.0, l1_ratio=0.5)"
   ]
  },
  {
   "cell_type": "markdown",
   "metadata": {
    "id": "rOZz8Yd41tKe"
   },
   "source": [
    "<br>\n",
    "<br>"
   ]
  },
  {
   "cell_type": "markdown",
   "metadata": {
    "id": "Z2cZdByC1tKf"
   },
   "source": [
    "# 선형 회귀 모델을 다항 회귀로 변환"
   ]
  },
  {
   "cell_type": "code",
   "execution_count": null,
   "metadata": {
    "id": "LtXEZBf21tKf"
   },
   "outputs": [],
   "source": [
    "X = np.array([258.0, 270.0, 294.0, \n",
    "              320.0, 342.0, 368.0, \n",
    "              396.0, 446.0, 480.0, 586.0])\\\n",
    "             [:, np.newaxis]\n",
    "\n",
    "y = np.array([236.4, 234.4, 252.8, \n",
    "              298.6, 314.2, 342.2, \n",
    "              360.8, 368.0, 391.2,\n",
    "              390.8])"
   ]
  },
  {
   "cell_type": "code",
   "execution_count": null,
   "metadata": {
    "id": "t5mGSEG71tKf"
   },
   "outputs": [],
   "source": [
    "from sklearn.preprocessing import PolynomialFeatures\n",
    "\n",
    "lr = LinearRegression()\n",
    "pr = LinearRegression()\n",
    "quadratic = PolynomialFeatures(degree=2)\n",
    "X_quad = quadratic.fit_transform(X)"
   ]
  },
  {
   "cell_type": "code",
   "execution_count": null,
   "metadata": {
    "colab": {
     "base_uri": "https://localhost:8080/",
     "height": 297
    },
    "id": "QSt-O4KT1tKf",
    "outputId": "faf5765d-0573-4632-95dc-86165e958de7"
   },
   "outputs": [],
   "source": [
    "# 선형 특성 학습\n",
    "lr.fit(X, y)\n",
    "X_fit = np.arange(250, 600, 10)[:, np.newaxis]\n",
    "y_lin_fit = lr.predict(X_fit)\n",
    "\n",
    "# 이차항 특성 학습\n",
    "pr.fit(X_quad, y)\n",
    "y_quad_fit = pr.predict(quadratic.fit_transform(X_fit))\n",
    "\n",
    "# 결과 그래프\n",
    "plt.scatter(X, y, label='Training points')\n",
    "plt.plot(X_fit, y_lin_fit, label='Linear fit', linestyle='--')\n",
    "plt.plot(X_fit, y_quad_fit, label='Quadratic fit')\n",
    "plt.xlabel('Explanatory variable')\n",
    "plt.ylabel('Predicted or known target values')\n",
    "plt.legend(loc='upper left')\n",
    "\n",
    "plt.tight_layout()\n",
    "# plt.savefig('images/10_11.png', dpi=300)\n",
    "plt.show()"
   ]
  },
  {
   "cell_type": "code",
   "execution_count": null,
   "metadata": {
    "id": "YPnT4mdf1tKf"
   },
   "outputs": [],
   "source": [
    "y_lin_pred = lr.predict(X)\n",
    "y_quad_pred = pr.predict(X_quad)"
   ]
  },
  {
   "cell_type": "code",
   "execution_count": null,
   "metadata": {
    "colab": {
     "base_uri": "https://localhost:8080/"
    },
    "id": "HsyWxWLH1tKf",
    "outputId": "5b1d0d01-ed91-45b2-e51a-8ce919cda1db"
   },
   "outputs": [],
   "source": [
    "print('훈련 MSE 비교 - 선형 모델: %.3f, 다항 모델: %.3f' % (\n",
    "        mean_squared_error(y, y_lin_pred),\n",
    "        mean_squared_error(y, y_quad_pred)))\n",
    "print('훈련 R^2 비교 - 선형 모델: %.3f, 다항 모델: %.3f' % (\n",
    "        r2_score(y, y_lin_pred),\n",
    "        r2_score(y, y_quad_pred)))"
   ]
  },
  {
   "cell_type": "markdown",
   "metadata": {
    "id": "7plvfsdG1tKf"
   },
   "source": [
    "<br>\n",
    "<br>"
   ]
  },
  {
   "cell_type": "markdown",
   "metadata": {
    "id": "AkCATH891tKf"
   },
   "source": [
    "## 주택 데이터셋을 사용한 비선형 관계 모델링"
   ]
  },
  {
   "cell_type": "code",
   "execution_count": null,
   "metadata": {
    "colab": {
     "base_uri": "https://localhost:8080/",
     "height": 279
    },
    "id": "z4zOwQ1j1tKf",
    "outputId": "7197038e-3541-42f0-9fda-51f694e6a69e"
   },
   "outputs": [],
   "source": [
    "X = df[['LSTAT']].values\n",
    "y = df['MEDV'].values\n",
    "\n",
    "regr = LinearRegression()\n",
    "\n",
    "quadratic = PolynomialFeatures(degree=2) # 2차 다항식\n",
    "cubic = PolynomialFeatures(degree=3)     # 3차 다항식\n",
    "X_quad = quadratic.fit_transform(X)      # 트레인데이터에 2차 다항식 적용\n",
    "X_cubic = cubic.fit_transform(X)         # 트레인데이터에 3차 다항식 적용\n",
    "\n",
    "X_fit = np.arange(X.min(), X.max(), 1)[:, np.newaxis] # 테스트데이터 생성\n",
    "\n",
    "regr = regr.fit(X, y)                    # 선형으로 X 학습\n",
    "y_lin_fit = regr.predict(X_fit)          # 선형으로 테스트데이터 예측\n",
    "linear_r2 = r2_score(y, regr.predict(X)) # r2 점수 계산\n",
    "\n",
    "regr = regr.fit(X_quad, y)               # 2차다항식으로 학습\n",
    "y_quad_fit = regr.predict(quadratic.fit_transform(X_fit)) # 2차다항식으로 테스트데이터 예측\n",
    "quadratic_r2 = r2_score(y, regr.predict(X_quad)) # r2 점수계산\n",
    "\n",
    "regr = regr.fit(X_cubic, y)              # 3차다항식으로 학습\n",
    "y_cubic_fit = regr.predict(cubic.fit_transform(X_fit))    # 3차다항식으로 테스트데이터 예측\n",
    "cubic_r2 = r2_score(y, regr.predict(X_cubic))    # # r2 점수계산\n",
    "\n",
    "\n",
    "# 결과 그래프를 그립니다\n",
    "plt.scatter(X, y, label='Training points', color='lightgray')\n",
    "\n",
    "plt.plot(X_fit, y_lin_fit, \n",
    "         label='Linear (d=1), $R^2=%.2f$' % linear_r2, \n",
    "         color='blue', \n",
    "         lw=2, \n",
    "         linestyle=':')\n",
    "\n",
    "plt.plot(X_fit, y_quad_fit, \n",
    "         label='Quadratic (d=2), $R^2=%.2f$' % quadratic_r2,\n",
    "         color='red', \n",
    "         lw=2,\n",
    "         linestyle='-')\n",
    "\n",
    "plt.plot(X_fit, y_cubic_fit, \n",
    "         label='Cubic (d=3), $R^2=%.2f$' % cubic_r2,\n",
    "         color='green', \n",
    "         lw=2, \n",
    "         linestyle='--')\n",
    "\n",
    "plt.xlabel('% lower status of the population [LSTAT]')\n",
    "plt.ylabel('Price in $1000s [MEDV]')\n",
    "plt.legend(loc='upper right')\n",
    "\n",
    "# plt.savefig('images/10_12.png', dpi=300)\n",
    "plt.show()"
   ]
  },
  {
   "cell_type": "markdown",
   "metadata": {
    "id": "mhIkMvBY1tKg"
   },
   "source": [
    "<br>\n",
    "<br>"
   ]
  },
  {
   "cell_type": "markdown",
   "metadata": {
    "id": "iaYaIA7-1tKg"
   },
   "source": [
    "# 랜덤 포레스트를 사용하여 비선형 관계 다루기"
   ]
  },
  {
   "cell_type": "markdown",
   "metadata": {
    "id": "1MdJqwN71tKg"
   },
   "source": [
    "## 결정 트리 회귀"
   ]
  },
  {
   "cell_type": "code",
   "execution_count": null,
   "metadata": {
    "colab": {
     "base_uri": "https://localhost:8080/",
     "height": 279
    },
    "id": "S72KA4d31tKg",
    "outputId": "ef882909-74c6-43d7-abb5-f2e82e4ef458"
   },
   "outputs": [],
   "source": [
    "from sklearn.tree import DecisionTreeRegressor\n",
    "\n",
    "X = df[['LSTAT']].values\n",
    "y = df['MEDV'].values\n",
    "\n",
    "tree = DecisionTreeRegressor(max_depth=3)\n",
    "tree.fit(X, y)\n",
    "\n",
    "\n",
    "sort_idx = X.flatten().argsort()\n",
    "\n",
    "lin_regplot(X[sort_idx], y[sort_idx], tree)\n",
    "plt.xlabel('% lower status of the population [LSTAT]')\n",
    "plt.ylabel('Price in $1000s [MEDV]')\n",
    "plt.show()"
   ]
  },
  {
   "cell_type": "markdown",
   "metadata": {
    "id": "5FSvZlQH1tKg"
   },
   "source": [
    "<br>\n",
    "<br>"
   ]
  },
  {
   "cell_type": "markdown",
   "metadata": {
    "id": "mWsdot0G1tKh"
   },
   "source": [
    "## 랜덤 포레스트 회귀"
   ]
  },
  {
   "cell_type": "code",
   "execution_count": null,
   "metadata": {
    "id": "nmARyEy61tKh"
   },
   "outputs": [],
   "source": [
    "X = df.iloc[:, :-1].values\n",
    "y = df['MEDV'].values\n",
    "\n",
    "X_train, X_test, y_train, y_test = train_test_split(\n",
    "    X, y, test_size=0.4, random_state=1)"
   ]
  },
  {
   "cell_type": "code",
   "execution_count": null,
   "metadata": {
    "colab": {
     "base_uri": "https://localhost:8080/"
    },
    "id": "tZim6NkC1tKh",
    "outputId": "1b5afdbd-c62e-46fd-bbe2-50189d357e54"
   },
   "outputs": [],
   "source": [
    "from sklearn.ensemble import RandomForestRegressor\n",
    "\n",
    "forest = RandomForestRegressor(n_estimators=1000, \n",
    "                               criterion='squared_error', \n",
    "                               random_state=1, \n",
    "                               n_jobs=-1)\n",
    "forest.fit(X_train, y_train)\n",
    "y_train_pred = forest.predict(X_train)\n",
    "y_test_pred = forest.predict(X_test)\n",
    "\n",
    "print('훈련 MSE: %.3f, 테스트 MSE: %.3f' % (\n",
    "        mean_squared_error(y_train, y_train_pred),\n",
    "        mean_squared_error(y_test, y_test_pred)))\n",
    "print('훈련 R^2: %.3f, 테스트 R^2: %.3f' % (\n",
    "        r2_score(y_train, y_train_pred),\n",
    "        r2_score(y_test, y_test_pred)))"
   ]
  },
  {
   "cell_type": "code",
   "execution_count": null,
   "metadata": {
    "colab": {
     "base_uri": "https://localhost:8080/",
     "height": 297
    },
    "id": "rtpih2CW1tKh",
    "outputId": "23230785-9ea4-4717-b3cf-3847b264e2d0"
   },
   "outputs": [],
   "source": [
    "plt.scatter(y_train_pred,  \n",
    "            y_train_pred - y_train, \n",
    "            c='steelblue',\n",
    "            edgecolor='white',\n",
    "            marker='o', \n",
    "            s=35,\n",
    "            alpha=0.9,\n",
    "            label='Training data')\n",
    "plt.scatter(y_test_pred,  \n",
    "            y_test_pred - y_test, \n",
    "            c='limegreen',\n",
    "            edgecolor='white',\n",
    "            marker='s', \n",
    "            s=35,\n",
    "            alpha=0.9,\n",
    "            label='Test data')\n",
    "\n",
    "plt.xlabel('Predicted values')\n",
    "plt.ylabel('Residuals')\n",
    "plt.legend(loc='upper left')\n",
    "plt.hlines(y=0, xmin=-10, xmax=50, lw=2, color='black')\n",
    "plt.xlim([-10, 50])\n",
    "plt.tight_layout()\n",
    "\n",
    "# plt.savefig('images/10_15.png', dpi=300)\n",
    "plt.show()"
   ]
  },
  {
   "cell_type": "markdown",
   "metadata": {
    "id": "UZqQvoUW1tKh"
   },
   "source": [
    "<br>\n",
    "<br>"
   ]
  }
 ],
 "metadata": {
  "colab": {
   "name": "ch10.ipynb",
   "provenance": [],
   "toc_visible": true
  },
  "kernelspec": {
   "display_name": "Python 3.12.2 ('myvenv': venv)",
   "language": "python",
   "name": "python3"
  },
  "language_info": {
   "codemirror_mode": {
    "name": "ipython",
    "version": 3
   },
   "file_extension": ".py",
   "mimetype": "text/x-python",
   "name": "python",
   "nbconvert_exporter": "python",
   "pygments_lexer": "ipython3",
   "version": "3.12.2"
  },
  "vscode": {
   "interpreter": {
    "hash": "3d744fc59d75c807537886f995b52faa6beae0d4651c0ff982b71c36e7f79fc7"
   }
  }
 },
 "nbformat": 4,
 "nbformat_minor": 4
}
